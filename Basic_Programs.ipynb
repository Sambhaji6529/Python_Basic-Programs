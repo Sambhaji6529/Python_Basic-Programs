{
  "nbformat": 4,
  "nbformat_minor": 0,
  "metadata": {
    "colab": {
      "provenance": [],
      "authorship_tag": "ABX9TyOwneRVo5XHYP4x31/uSeyN",
      "include_colab_link": true
    },
    "kernelspec": {
      "name": "python3",
      "display_name": "Python 3"
    },
    "language_info": {
      "name": "python"
    }
  },
  "cells": [
    {
      "cell_type": "markdown",
      "metadata": {
        "id": "view-in-github",
        "colab_type": "text"
      },
      "source": [
        "<a href=\"https://colab.research.google.com/github/Sambhaji6529/Python_Basic-Programs/blob/main/Basic_Programs.ipynb\" target=\"_parent\"><img src=\"https://colab.research.google.com/assets/colab-badge.svg\" alt=\"Open In Colab\"/></a>"
      ]
    },
    {
      "cell_type": "markdown",
      "source": [
        "**1.Python program to add two numbers**"
      ],
      "metadata": {
        "id": "MxsowHFUEiJ0"
      }
    },
    {
      "cell_type": "code",
      "execution_count": 1,
      "metadata": {
        "colab": {
          "base_uri": "https://localhost:8080/"
        },
        "id": "crNU0ZefEYLX",
        "outputId": "45293ace-214f-49e0-d112-d44f06884b61"
      },
      "outputs": [
        {
          "output_type": "stream",
          "name": "stdout",
          "text": [
            "Enter The Number1:5\n",
            "Enter The Number2:8\n",
            "5+8=13\n"
          ]
        }
      ],
      "source": [
        "#Adding two number provided by user input \n",
        "num1=int(input(\"Enter The Number1:\"))\n",
        "num2=int(input(\"Enter The Number2:\"))\n",
        "result=num1+num2\n",
        "print(\"{0}+{1}={2}\".format(num1,num2,result))"
      ]
    },
    {
      "cell_type": "code",
      "source": [
        "num1=15\n",
        "num2=20\n",
        "sum=num1+num2\n",
        "print(\"{0}+{1}={2}\".format(num1,num2,sum))"
      ],
      "metadata": {
        "colab": {
          "base_uri": "https://localhost:8080/"
        },
        "id": "TZOTLrS_F24-",
        "outputId": "93625a3b-5ad4-4c46-ad8e-fbfc345cd041"
      },
      "execution_count": null,
      "outputs": [
        {
          "output_type": "stream",
          "name": "stdout",
          "text": [
            "15+20=35\n"
          ]
        }
      ]
    },
    {
      "cell_type": "code",
      "source": [
        "#using float\n",
        "x=int(input(\"Enter The Number1:\"))\n",
        "y=int(input(\"Enter The Number2:\"))\n",
        "z=float(x) + float(y)\n",
        "print(\"The sum of {0} and {1} is {2}\".format(x,y,z))"
      ],
      "metadata": {
        "colab": {
          "base_uri": "https://localhost:8080/"
        },
        "id": "nMBBIH6qHuN1",
        "outputId": "9b589ffb-2c28-4aa4-ed0b-da874c4a2ad7"
      },
      "execution_count": null,
      "outputs": [
        {
          "output_type": "stream",
          "name": "stdout",
          "text": [
            "Enter The Number1:90\n",
            "Enter The Number2:68\n",
            "The sum of 90 and 68 is 158.0\n"
          ]
        }
      ]
    },
    {
      "cell_type": "code",
      "source": [
        "# using lambda\n",
        "#if __name__ == \"__main__\" :\n",
        "\n",
        "num1 = 15\n",
        "num2 = 12\n",
        "\n",
        "# Adding two numbers\n",
        "sum_twoNum = lambda num1, num2 : num1 + num2\n",
        "\n",
        "print(\"Sum of {0} and {1} is {2};\" .format(num1, num2, sum_twoNum(num1, num2)))"
      ],
      "metadata": {
        "colab": {
          "base_uri": "https://localhost:8080/"
        },
        "id": "YD6UICVoJbYY",
        "outputId": "9dafd7f2-161b-41ee-d8b7-35b16556b312"
      },
      "execution_count": null,
      "outputs": [
        {
          "output_type": "stream",
          "name": "stdout",
          "text": [
            "Sum of 15 and 12 is 27;\n"
          ]
        }
      ]
    },
    {
      "cell_type": "markdown",
      "source": [
        "**2. Maximum of two numbers in Python**"
      ],
      "metadata": {
        "id": "xlot__buKGbW"
      }
    },
    {
      "cell_type": "code",
      "source": [
        "#Using max() function\n",
        "a=int(input(\"Enter The Number1:\"))\n",
        "b=int(input(\"Enter The Number2:\"))\n",
        "maximum = max(a,b) \n",
        "print(maximum)"
      ],
      "metadata": {
        "colab": {
          "base_uri": "https://localhost:8080/"
        },
        "id": "bJUwfxofOwf_",
        "outputId": "ff24941f-cd78-4dcb-c5f8-0da6d1f97986"
      },
      "execution_count": null,
      "outputs": [
        {
          "output_type": "stream",
          "name": "stdout",
          "text": [
            "Enter The Number1:25\n",
            "Enter The Number2:48\n",
            "48\n"
          ]
        }
      ]
    },
    {
      "cell_type": "markdown",
      "source": [
        "**3. Python Program for factorial of a number**"
      ],
      "metadata": {
        "id": "q8jxrW0giNw-"
      }
    },
    {
      "cell_type": "code",
      "source": [
        "# factorial of given number\n",
        "def factorial(n):\n",
        "\t\n",
        "\t# single line to find factorial\n",
        "\treturn 1 if (n==1 or n==0) else n * factorial(n - 1);\n",
        "\n",
        "# Driver Code\n",
        "num = 5;\n",
        "print(\"Factorial of\",num,\"is\",\n",
        "factorial(num))\n",
        "\n",
        "\n"
      ],
      "metadata": {
        "colab": {
          "base_uri": "https://localhost:8080/"
        },
        "id": "_N-WwT9tiVfY",
        "outputId": "671f2442-f898-46f5-e94e-bf498513e911"
      },
      "execution_count": null,
      "outputs": [
        {
          "output_type": "stream",
          "name": "stdout",
          "text": [
            "Factorial of 5 is 120\n"
          ]
        }
      ]
    },
    {
      "cell_type": "markdown",
      "source": [
        "**4. Python Program for simple interest**"
      ],
      "metadata": {
        "id": "yrmSpnvNhO9Z"
      }
    },
    {
      "cell_type": "code",
      "source": [
        "# for given principal amount, time and\n",
        "# rate of interest.\n",
        "\n",
        "\n",
        "def simple_interest(p,t,r):\n",
        "\tprint('The principal is', p)\n",
        "\tprint('The time period is', t)\n",
        "\tprint('The rate of interest is',r)\n",
        "\t\n",
        "\tsi = (p * t * r)/100\n",
        "\t\n",
        "\tprint('The Simple Interest is', si)\n",
        "\treturn si\n",
        "\t\n",
        "# Driver code\n",
        "simple_interest(8, 6, 8)\n"
      ],
      "metadata": {
        "colab": {
          "base_uri": "https://localhost:8080/"
        },
        "id": "6fCYwScphYQI",
        "outputId": "6b2e45ee-444e-44cf-d721-9481a27934dd"
      },
      "execution_count": null,
      "outputs": [
        {
          "output_type": "stream",
          "name": "stdout",
          "text": [
            "The principal is 8\n",
            "The time period is 6\n",
            "The rate of interest is 8\n",
            "The Simple Interest is 3.84\n"
          ]
        },
        {
          "output_type": "execute_result",
          "data": {
            "text/plain": [
              "3.84"
            ]
          },
          "metadata": {},
          "execution_count": 5
        }
      ]
    },
    {
      "cell_type": "code",
      "source": [
        "p=int(input('Enter principal'))\n",
        "t=int(input('Enter peroid'))\n",
        "r=int(input('Enter interest '))\n",
        "si= (p * t * r)/100\n",
        "print('the simple interest is ',si)\n"
      ],
      "metadata": {
        "colab": {
          "base_uri": "https://localhost:8080/"
        },
        "id": "juYka0CIEuZH",
        "outputId": "c1766979-cefa-42b5-cf26-efa944bb6222"
      },
      "execution_count": null,
      "outputs": [
        {
          "output_type": "stream",
          "name": "stdout",
          "text": [
            "Enter principal1000\n",
            "Enter peroid1\n",
            "Enter interest 20\n",
            "the simple interest is  200.0\n"
          ]
        }
      ]
    },
    {
      "cell_type": "markdown",
      "source": [
        "**5. Python Program for compound interest**"
      ],
      "metadata": {
        "id": "w9_cCramabKE"
      }
    },
    {
      "cell_type": "code",
      "source": [
        "def compound_interest(principal, rate, time):\n",
        "  amount = principal * (pow((1+ rate/100), time))\n",
        "  ci = amount * principal\n",
        "  print(\"Compound interest is\",ci)\n",
        "\n",
        "compound_interest(1000,10,5)"
      ],
      "metadata": {
        "colab": {
          "base_uri": "https://localhost:8080/"
        },
        "id": "OEXCsqq3fLac",
        "outputId": "e2203966-366e-4418-bc83-952360f30932"
      },
      "execution_count": null,
      "outputs": [
        {
          "output_type": "stream",
          "name": "stdout",
          "text": [
            "Compound interest is 1610510.0000000005\n"
          ]
        }
      ]
    },
    {
      "cell_type": "code",
      "source": [
        "p=int(input(\"Enter The Principal \"))\n",
        "t=int(input(\"Enter The Time\"))\n",
        "r=int(input(\"Enter The Rate\"))\n",
        "\n",
        "amount=p*(pow((1+r/100),t))\n",
        "ci=amount-p\n",
        "print(\"Compound interest is :\",ci)"
      ],
      "metadata": {
        "colab": {
          "base_uri": "https://localhost:8080/"
        },
        "id": "hQgjtgmnjBj2",
        "outputId": "1473fd1c-44c7-4720-e90f-8baeefdc6624"
      },
      "execution_count": null,
      "outputs": [
        {
          "output_type": "stream",
          "name": "stdout",
          "text": [
            "Enter The Principal 100000\n",
            "Enter The Time3\n",
            "Enter The Rate2\n",
            "Compound interest is : 6120.8000000000175\n"
          ]
        }
      ]
    },
    {
      "cell_type": "markdown",
      "source": [
        "**6. Python Program to check Armstrong Number**"
      ],
      "metadata": {
        "id": "znmG_53mKbKY"
      }
    },
    {
      "cell_type": "code",
      "source": [
        "n=371\n",
        "sum=0\n",
        "order=len(str(n))\n",
        "copy_n=n\n",
        "while(n>0):\n",
        "  digit=n%10\n",
        "  sum+=digit **order\n",
        "  n = n//10\n",
        "\n",
        "if(sum == copy_n):\n",
        "  print(f\"{copy_n} is an amrstrong number\")\n",
        "else:\n",
        "  print(f\"{copy_n} is not an armstrong number\")"
      ],
      "metadata": {
        "colab": {
          "base_uri": "https://localhost:8080/"
        },
        "id": "PvipmrikKgik",
        "outputId": "936a2aff-2604-4cd9-a24c-f5a6cb0161e3"
      },
      "execution_count": null,
      "outputs": [
        {
          "output_type": "stream",
          "name": "stdout",
          "text": [
            "371 is an amrstrong number\n"
          ]
        }
      ]
    },
    {
      "cell_type": "code",
      "source": [
        "n=int(input(\"Enter The Number\"))\n",
        "sum=0\n",
        "order=len(str(n))\n",
        "copy_n=n\n",
        "while(n>0):\n",
        "  digit=n%10\n",
        "  sum += digit **order\n",
        "  n = n//10\n",
        "\n",
        "if(sum == copy_n):\n",
        "  print(f\"{copy_n} is an armstrong number\")\n",
        "else:\n",
        "  print(f\"{copy_n} is not an armstrong number\")"
      ],
      "metadata": {
        "colab": {
          "base_uri": "https://localhost:8080/"
        },
        "id": "OFykw-5EbJpc",
        "outputId": "f0d18b0c-16c3-4eef-cc7d-99a2ad8b93d8"
      },
      "execution_count": null,
      "outputs": [
        {
          "output_type": "stream",
          "name": "stdout",
          "text": [
            "Enter The Number121\n",
            "121 is not an armstrong number\n"
          ]
        }
      ]
    },
    {
      "cell_type": "markdown",
      "source": [
        "**7. Python Program for Program to find area of a circle**"
      ],
      "metadata": {
        "id": "dD8vL30mop4p"
      }
    },
    {
      "cell_type": "code",
      "source": [
        "pi=3.142\n",
        "num=float(input(\"Enter radius of cricle:\"))\n",
        "Area=pi*num*num\n",
        "print(\"Area of the cricle\",Area)"
      ],
      "metadata": {
        "colab": {
          "base_uri": "https://localhost:8080/"
        },
        "id": "WULYLVKQosxP",
        "outputId": "e8567909-5f18-4acb-f7b0-f278dc9084e7"
      },
      "execution_count": null,
      "outputs": [
        {
          "output_type": "stream",
          "name": "stdout",
          "text": [
            "Enter radius of cricle:5\n",
            "Area of the cricle 78.55\n"
          ]
        }
      ]
    },
    {
      "cell_type": "code",
      "source": [
        "num=10\n",
        "pi=3.142\n",
        "Area=pi*num*num\n",
        "print(\"Area of the cricle\",Area)"
      ],
      "metadata": {
        "colab": {
          "base_uri": "https://localhost:8080/"
        },
        "id": "Fxqx7tdTs2-0",
        "outputId": "ce4dbfac-a181-483f-c2f9-54ad15c0aa63"
      },
      "execution_count": null,
      "outputs": [
        {
          "output_type": "stream",
          "name": "stdout",
          "text": [
            "Area of the cricle 314.2\n"
          ]
        }
      ]
    },
    {
      "cell_type": "markdown",
      "source": [
        "**8.Python program to check whether a number is Prime or not**"
      ],
      "metadata": {
        "id": "HJvMdJ-g6FfL"
      }
    },
    {
      "cell_type": "code",
      "source": [
        "num = 12\n",
        "if num > 1:\n",
        "\t# Iterate from 2 to n / 2\n",
        "\tfor i in range(2, int(num/2)+1):\n",
        "\t\t# If num is divisible by any number between\n",
        "\t\t# 2 and n / 2, it is not prime\n",
        "\t\tif (num % i) == 0:\n",
        "\t\t\tprint(num, \"is not a prime number\")\n",
        "\t\t\tbreak\n",
        "\telse:\n",
        "\t\tprint(num, \"is a prime number\")\n",
        "else:\n",
        "\tprint(num, \"is not a prime number\")\n"
      ],
      "metadata": {
        "colab": {
          "base_uri": "https://localhost:8080/"
        },
        "id": "lqqwvWXB6eJL",
        "outputId": "5947f1b7-e85e-4ae4-be53-f87959bc6422"
      },
      "execution_count": null,
      "outputs": [
        {
          "output_type": "stream",
          "name": "stdout",
          "text": [
            "12 is not a prime number\n"
          ]
        }
      ]
    },
    {
      "cell_type": "markdown",
      "source": [
        "**9.Python Program for n-th Fibonacci number**"
      ],
      "metadata": {
        "id": "FH1VlmbV-xv3"
      }
    },
    {
      "cell_type": "code",
      "source": [
        "num=int(input(\"Enter The Number:\"))\n",
        "x=0\n",
        "y=1\n",
        "z=0\n",
        "while z<=num:\n",
        "  print(z)\n",
        "  x=y\n",
        "  y=z\n",
        "  z=x+y\n"
      ],
      "metadata": {
        "colab": {
          "base_uri": "https://localhost:8080/"
        },
        "id": "2Qfc7Ox5-4zL",
        "outputId": "c5ac1815-f8ff-473c-a736-25c4bf7efefb"
      },
      "execution_count": null,
      "outputs": [
        {
          "output_type": "stream",
          "name": "stdout",
          "text": [
            "Enter The Number:5\n",
            "0\n",
            "1\n",
            "1\n",
            "2\n",
            "3\n",
            "5\n"
          ]
        }
      ]
    },
    {
      "cell_type": "code",
      "source": [
        "\n",
        "#fibonacci using recursion\n",
        "def recur_fibo(n):\n",
        "  if n <=1:\n",
        "    return n\n",
        "  else:\n",
        "    return(recur_fibo(n-1) + recur_fibo(n-2))\n",
        "nterms = int(input(\"How many times? \"))\n",
        "\n",
        "if nterms <=0:\n",
        "  print(\"Please enter a postive integer\")\n",
        "else:\n",
        "   for i in range(nterms):\n",
        "     print(recur_fibo(i))\n",
        "     "
      ],
      "metadata": {
        "colab": {
          "base_uri": "https://localhost:8080/"
        },
        "id": "PoTs-CCKCAe4",
        "outputId": "0156ba5c-06ae-4ac9-a03c-63a8a04df53c"
      },
      "execution_count": null,
      "outputs": [
        {
          "output_type": "stream",
          "name": "stdout",
          "text": [
            "How many times? 5\n",
            "0\n",
            "1\n",
            "1\n",
            "2\n",
            "3\n"
          ]
        }
      ]
    },
    {
      "cell_type": "markdown",
      "source": [
        "**10.Python Program for How to check if a given number is Fibonacci number?**"
      ],
      "metadata": {
        "id": "PgvuF62grccj"
      }
    },
    {
      "cell_type": "code",
      "source": [
        "import math \n",
        "# A utility function that returns true if x is perfect square\n",
        "def isPerfectSquare(x):\n",
        "  s = int(math.sqrt(x))\n",
        "  return s*s == x\n",
        "# Returns true if n is a Fibonacci Number, else false\n",
        "\n",
        "def isFibonacci(n):\n",
        "  return isPerfectSquare(5*n*n +4) or isPerfectSquare(5*n*n -4)\n",
        "\n",
        "# A utility function to test above functions\n",
        "for i in range(1,11):\n",
        "    if (isFibonacci(i) == True):\n",
        "      print(i, \"is a fibonacci number\")\n",
        "    else:\n",
        "      print(i,\"is a not fibonacci number\")"
      ],
      "metadata": {
        "colab": {
          "base_uri": "https://localhost:8080/"
        },
        "id": "kGPa6gbbrgRi",
        "outputId": "0c306f6e-cdcf-4502-95b8-9f5c7ac0bd02"
      },
      "execution_count": null,
      "outputs": [
        {
          "output_type": "stream",
          "name": "stdout",
          "text": [
            "1 is a fibonacci number\n",
            "2 is a fibonacci number\n",
            "3 is a fibonacci number\n",
            "4 is a not fibonacci number\n",
            "5 is a fibonacci number\n",
            "6 is a not fibonacci number\n",
            "7 is a not fibonacci number\n",
            "8 is a fibonacci number\n",
            "9 is a not fibonacci number\n",
            "10 is a not fibonacci number\n"
          ]
        }
      ]
    },
    {
      "cell_type": "markdown",
      "source": [
        "**11.Python Program for Sum of squares of first n natural numbers**"
      ],
      "metadata": {
        "id": "btTWQoKzE8R4"
      }
    },
    {
      "cell_type": "code",
      "source": [
        "def squaresum(n) :\n",
        " \n",
        "    # Iterate i from 1\n",
        "    # and n finding\n",
        "    # square of i and\n",
        "    # add to sum.\n",
        "    sm = 0\n",
        "    for i in range(1, n+1) :\n",
        "        sm = sm + (i * i)\n",
        "     \n",
        "    return sm\n",
        " \n",
        "# Driven Program\n",
        "n = 4\n",
        "print(squaresum(n))"
      ],
      "metadata": {
        "id": "Adzmq3wSFAQW",
        "outputId": "6d6428bc-9c13-4b8c-83ab-9d1c61a85985",
        "colab": {
          "base_uri": "https://localhost:8080/"
        }
      },
      "execution_count": null,
      "outputs": [
        {
          "output_type": "stream",
          "name": "stdout",
          "text": [
            "30\n"
          ]
        }
      ]
    },
    {
      "cell_type": "markdown",
      "source": [
        "**12.Python Program for cube sum of first n natural numbers**"
      ],
      "metadata": {
        "id": "tcqgC-J7Gkz_"
      }
    },
    {
      "cell_type": "code",
      "source": [
        "def sumOfSeries(n):\n",
        "    sum = 0\n",
        "    for i in range(1, n+1):\n",
        "        sum +=pow(i,3)\n",
        "    return sum\n",
        "\n",
        "n=5\n",
        "print(sumOfSeries(n))"
      ],
      "metadata": {
        "id": "uHuXhvplGrGn",
        "outputId": "9ef00932-b854-476f-910d-6c8ec37891b5",
        "colab": {
          "base_uri": "https://localhost:8080/"
        }
      },
      "execution_count": null,
      "outputs": [
        {
          "output_type": "stream",
          "name": "stdout",
          "text": [
            "225\n"
          ]
        }
      ]
    },
    {
      "cell_type": "markdown",
      "source": [
        "**13.Program to print ASCII Value of a character**"
      ],
      "metadata": {
        "id": "NV_OVm2jI_xr"
      }
    },
    {
      "cell_type": "markdown",
      "source": [
        "Python code using ord function : ord() : It converts the given string of length one, returns an integer representing the Unicode code point of the character."
      ],
      "metadata": {
        "id": "ztee5D4HJKIa"
      }
    },
    {
      "cell_type": "code",
      "source": [
        "c = 'g'\n",
        "# print the ASCII value of assigned character in c\n",
        "print(\"The ASCII value of \"+ c +\" is\", ord(c))"
      ],
      "metadata": {
        "id": "Xd1hDc_VI9cY",
        "outputId": "06bd7287-c476-4483-edf9-38573286b171",
        "colab": {
          "base_uri": "https://localhost:8080/"
        }
      },
      "execution_count": null,
      "outputs": [
        {
          "output_type": "stream",
          "name": "stdout",
          "text": [
            "The ASCII value of g is 103\n"
          ]
        }
      ]
    },
    {
      "cell_type": "code",
      "source": [
        "print(\"Enter a string: \", end=\"\")\n",
        "text = input()\n",
        "textlength = len(text)\n",
        "for char in text:\n",
        "    ascii = ord(char)\n",
        "    print(char, \"\\t\", ascii)"
      ],
      "metadata": {
        "id": "DrJ1JWCzJ0Nk",
        "outputId": "79f35c96-8597-4d82-d597-3f86f95b560e",
        "colab": {
          "base_uri": "https://localhost:8080/"
        }
      },
      "execution_count": null,
      "outputs": [
        {
          "output_type": "stream",
          "name": "stdout",
          "text": [
            "Enter a string: python\n",
            "p \t 112\n",
            "y \t 121\n",
            "t \t 116\n",
            "h \t 104\n",
            "o \t 111\n",
            "n \t 110\n"
          ]
        }
      ]
    },
    {
      "cell_type": "markdown",
      "source": [
        "**14.Python program to print all Prime numbers in an Interval**"
      ],
      "metadata": {
        "id": "s4E_VWHFNsh9"
      }
    },
    {
      "cell_type": "markdown",
      "source": [
        "Given two positive integers start and end. The task is to write a Python program to print all Prime numbers in an Interval.\n",
        "\n",
        "Definition: A prime number is a natural number greater than 1 that has no positive divisors other than 1 and itself. The first few prime numbers are {2, 3, 5, 7, 11, ….}."
      ],
      "metadata": {
        "id": "nTcZnYIQO0CA"
      }
    },
    {
      "cell_type": "code",
      "source": [
        "def prime(x, y):\n",
        "\tprime_list = []\n",
        "\tfor i in range(x, y):\n",
        "\t\tif i == 0 or i == 1:\n",
        "\t\t\tcontinue\n",
        "\t\telse:\n",
        "\t\t\tfor j in range(2, int(i/2)+1):\n",
        "\t\t\t\tif i % j == 0:\n",
        "\t\t\t\t\tbreak\n",
        "\t\t\telse:\n",
        "\t\t\t\tprime_list.append(i)\n",
        "\treturn prime_list\n",
        "\n",
        "# Driver program\n",
        "starting_range = 2\n",
        "ending_range = 7\n",
        "lst = prime(starting_range, ending_range)\n",
        "if len(lst) == 0:\n",
        "\tprint(\"There are no prime numbers in this range\")\n",
        "else:\n",
        "\tprint(\"The prime numbers in this range are: \", lst)\n"
      ],
      "metadata": {
        "id": "IxyPlJjKQ2E8",
        "outputId": "636d2915-4b04-4b08-bad1-5852bd40c813",
        "colab": {
          "base_uri": "https://localhost:8080/"
        }
      },
      "execution_count": 5,
      "outputs": [
        {
          "output_type": "stream",
          "name": "stdout",
          "text": [
            "The prime numbers in this range are:  [2, 3, 5]\n"
          ]
        }
      ]
    },
    {
      "cell_type": "code",
      "source": [
        "lower=int(input(\"Enter lower limit here: \"))\n",
        "upper=int(input(\"Enter upper limit here: \"))\n",
        "\n",
        "for num in range(lower, upper +1):\n",
        "    if num>1:\n",
        "       for i in range(2,num):\n",
        "           if num%i==0:\n",
        "              break\n",
        "       else:\n",
        "          print(num)"
      ],
      "metadata": {
        "id": "rL4pXmzwT0_Y",
        "outputId": "964f7c98-61cc-491f-a318-84fd77ea8517",
        "colab": {
          "base_uri": "https://localhost:8080/"
        }
      },
      "execution_count": 8,
      "outputs": [
        {
          "output_type": "stream",
          "name": "stdout",
          "text": [
            "Enter lower limit here: 1\n",
            "Enter upper limit here: 15\n",
            "2\n",
            "3\n",
            "5\n",
            "7\n",
            "11\n",
            "13\n"
          ]
        }
      ]
    }
  ]
}