{
  "nbformat": 4,
  "nbformat_minor": 0,
  "metadata": {
    "colab": {
      "provenance": [],
      "authorship_tag": "ABX9TyP14zpW4dEdj4H4pgWtm3sR",
      "include_colab_link": true
    },
    "kernelspec": {
      "name": "python3",
      "display_name": "Python 3"
    },
    "language_info": {
      "name": "python"
    }
  },
  "cells": [
    {
      "cell_type": "markdown",
      "metadata": {
        "id": "view-in-github",
        "colab_type": "text"
      },
      "source": [
        "<a href=\"https://colab.research.google.com/github/Sambhaji6529/Python_Basic-Programs/blob/main/Basic_Programs.ipynb\" target=\"_parent\"><img src=\"https://colab.research.google.com/assets/colab-badge.svg\" alt=\"Open In Colab\"/></a>"
      ]
    },
    {
      "cell_type": "markdown",
      "source": [
        "**1.Python program to add two numbers**"
      ],
      "metadata": {
        "id": "MxsowHFUEiJ0"
      }
    },
    {
      "cell_type": "code",
      "execution_count": null,
      "metadata": {
        "colab": {
          "base_uri": "https://localhost:8080/"
        },
        "id": "crNU0ZefEYLX",
        "outputId": "5575e7fd-6d4c-4bc3-c093-7f92b13856c7"
      },
      "outputs": [
        {
          "output_type": "stream",
          "name": "stdout",
          "text": [
            "Enter The Number1:15\n",
            "Enter The Number2:25\n",
            "15+25=40\n"
          ]
        }
      ],
      "source": [
        "#Adding two number provided by user input \n",
        "num1=int(input(\"Enter The Number1:\"))\n",
        "num2=int(input(\"Enter The Number2:\"))\n",
        "result=num1+num2\n",
        "print(\"{0}+{1}={2}\".format(num1,num2,result))"
      ]
    },
    {
      "cell_type": "code",
      "source": [
        "num1=15\n",
        "num2=20\n",
        "sum=num1+num2\n",
        "print(\"{0}+{1}={2}\".format(num1,num2,sum))"
      ],
      "metadata": {
        "colab": {
          "base_uri": "https://localhost:8080/"
        },
        "id": "TZOTLrS_F24-",
        "outputId": "93625a3b-5ad4-4c46-ad8e-fbfc345cd041"
      },
      "execution_count": null,
      "outputs": [
        {
          "output_type": "stream",
          "name": "stdout",
          "text": [
            "15+20=35\n"
          ]
        }
      ]
    },
    {
      "cell_type": "code",
      "source": [
        "#using float\n",
        "x=int(input(\"Enter The Number1:\"))\n",
        "y=int(input(\"Enter The Number2:\"))\n",
        "z=float(x) + float(y)\n",
        "print(\"The sum of {0} and {1} is {2}\".format(x,y,z))"
      ],
      "metadata": {
        "colab": {
          "base_uri": "https://localhost:8080/"
        },
        "id": "nMBBIH6qHuN1",
        "outputId": "9b589ffb-2c28-4aa4-ed0b-da874c4a2ad7"
      },
      "execution_count": null,
      "outputs": [
        {
          "output_type": "stream",
          "name": "stdout",
          "text": [
            "Enter The Number1:90\n",
            "Enter The Number2:68\n",
            "The sum of 90 and 68 is 158.0\n"
          ]
        }
      ]
    },
    {
      "cell_type": "code",
      "source": [
        "# using lambda\n",
        "#if __name__ == \"__main__\" :\n",
        "\n",
        "num1 = 15\n",
        "num2 = 12\n",
        "\n",
        "# Adding two numbers\n",
        "sum_twoNum = lambda num1, num2 : num1 + num2\n",
        "\n",
        "print(\"Sum of {0} and {1} is {2};\" .format(num1, num2, sum_twoNum(num1, num2)))"
      ],
      "metadata": {
        "colab": {
          "base_uri": "https://localhost:8080/"
        },
        "id": "YD6UICVoJbYY",
        "outputId": "9dafd7f2-161b-41ee-d8b7-35b16556b312"
      },
      "execution_count": null,
      "outputs": [
        {
          "output_type": "stream",
          "name": "stdout",
          "text": [
            "Sum of 15 and 12 is 27;\n"
          ]
        }
      ]
    },
    {
      "cell_type": "markdown",
      "source": [
        "**2. Maximum of two numbers in Python**"
      ],
      "metadata": {
        "id": "xlot__buKGbW"
      }
    },
    {
      "cell_type": "code",
      "source": [
        "#Using max() function\n",
        "a=int(input(\"Enter The Number1:\"))\n",
        "b=int(input(\"Enter The Number2:\"))\n",
        "maximum = max(a,b) \n",
        "print(maximum)"
      ],
      "metadata": {
        "colab": {
          "base_uri": "https://localhost:8080/"
        },
        "id": "bJUwfxofOwf_",
        "outputId": "ff24941f-cd78-4dcb-c5f8-0da6d1f97986"
      },
      "execution_count": null,
      "outputs": [
        {
          "output_type": "stream",
          "name": "stdout",
          "text": [
            "Enter The Number1:25\n",
            "Enter The Number2:48\n",
            "48\n"
          ]
        }
      ]
    },
    {
      "cell_type": "markdown",
      "source": [
        "**3. Python Program for factorial of a number**"
      ],
      "metadata": {
        "id": "q8jxrW0giNw-"
      }
    },
    {
      "cell_type": "code",
      "source": [
        "# Python 3 program to find\n",
        "# factorial of given number\n",
        "def factorial(n):\n",
        "\t\n",
        "\t# single line to find factorial\n",
        "\treturn 1 if (n==1 or n==0) else n * factorial(n - 1);\n",
        "\n",
        "# Driver Code\n",
        "num = 5;\n",
        "print(\"Factorial of\",num,\"is\",\n",
        "factorial(num))\n",
        "\n",
        "\n"
      ],
      "metadata": {
        "colab": {
          "base_uri": "https://localhost:8080/"
        },
        "id": "_N-WwT9tiVfY",
        "outputId": "671f2442-f898-46f5-e94e-bf498513e911"
      },
      "execution_count": null,
      "outputs": [
        {
          "output_type": "stream",
          "name": "stdout",
          "text": [
            "Factorial of 5 is 120\n"
          ]
        }
      ]
    },
    {
      "cell_type": "markdown",
      "source": [
        "**4. Python Program for simple interest**"
      ],
      "metadata": {
        "id": "yrmSpnvNhO9Z"
      }
    },
    {
      "cell_type": "code",
      "source": [
        "# for given principal amount, time and\n",
        "# rate of interest.\n",
        "\n",
        "\n",
        "def simple_interest(p,t,r):\n",
        "\tprint('The principal is', p)\n",
        "\tprint('The time period is', t)\n",
        "\tprint('The rate of interest is',r)\n",
        "\t\n",
        "\tsi = (p * t * r)/100\n",
        "\t\n",
        "\tprint('The Simple Interest is', si)\n",
        "\treturn si\n",
        "\t\n",
        "# Driver code\n",
        "simple_interest(8, 6, 8)\n"
      ],
      "metadata": {
        "colab": {
          "base_uri": "https://localhost:8080/"
        },
        "id": "6fCYwScphYQI",
        "outputId": "9f461221-5b09-49ec-c66f-0158280b65eb"
      },
      "execution_count": 1,
      "outputs": [
        {
          "output_type": "stream",
          "name": "stdout",
          "text": [
            "The principal is 8\n",
            "The time period is 6\n",
            "The rate of interest is 8\n",
            "The Simple Interest is 3.84\n"
          ]
        },
        {
          "output_type": "execute_result",
          "data": {
            "text/plain": [
              "3.84"
            ]
          },
          "metadata": {},
          "execution_count": 1
        }
      ]
    }
  ]
}