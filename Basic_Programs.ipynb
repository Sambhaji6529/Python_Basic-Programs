{
  "nbformat": 4,
  "nbformat_minor": 0,
  "metadata": {
    "colab": {
      "provenance": [],
      "authorship_tag": "ABX9TyOTy6CtwP8WHgnUzp89SPDi",
      "include_colab_link": true
    },
    "kernelspec": {
      "name": "python3",
      "display_name": "Python 3"
    },
    "language_info": {
      "name": "python"
    }
  },
  "cells": [
    {
      "cell_type": "markdown",
      "metadata": {
        "id": "view-in-github",
        "colab_type": "text"
      },
      "source": [
        "<a href=\"https://colab.research.google.com/github/Sambhaji6529/Python_Basic-Programs/blob/main/Basic_Programs.ipynb\" target=\"_parent\"><img src=\"https://colab.research.google.com/assets/colab-badge.svg\" alt=\"Open In Colab\"/></a>"
      ]
    },
    {
      "cell_type": "markdown",
      "source": [
        "**1.Python program to add two numbers**"
      ],
      "metadata": {
        "id": "MxsowHFUEiJ0"
      }
    },
    {
      "cell_type": "code",
      "execution_count": 3,
      "metadata": {
        "colab": {
          "base_uri": "https://localhost:8080/"
        },
        "id": "crNU0ZefEYLX",
        "outputId": "5575e7fd-6d4c-4bc3-c093-7f92b13856c7"
      },
      "outputs": [
        {
          "output_type": "stream",
          "name": "stdout",
          "text": [
            "Enter The Number1:15\n",
            "Enter The Number2:25\n",
            "15+25=40\n"
          ]
        }
      ],
      "source": [
        "#Adding two number provided by user input \n",
        "num1=int(input(\"Enter The Number1:\"))\n",
        "num2=int(input(\"Enter The Number2:\"))\n",
        "result=num1+num2\n",
        "print(\"{0}+{1}={2}\".format(num1,num2,result))"
      ]
    },
    {
      "cell_type": "code",
      "source": [
        "num1=15\n",
        "num2=20\n",
        "sum=num1+num2\n",
        "print(\"{0}+{1}={2}\".format(num1,num2,sum))"
      ],
      "metadata": {
        "colab": {
          "base_uri": "https://localhost:8080/"
        },
        "id": "TZOTLrS_F24-",
        "outputId": "93625a3b-5ad4-4c46-ad8e-fbfc345cd041"
      },
      "execution_count": 12,
      "outputs": [
        {
          "output_type": "stream",
          "name": "stdout",
          "text": [
            "15+20=35\n"
          ]
        }
      ]
    },
    {
      "cell_type": "code",
      "source": [
        "#using float\n",
        "x=int(input(\"Enter The Number1:\"))\n",
        "y=int(input(\"Enter The Number2:\"))\n",
        "z=float(x) + float(y)\n",
        "print(\"The sum of {0} and {1} is {2}\".format(x,y,z))"
      ],
      "metadata": {
        "colab": {
          "base_uri": "https://localhost:8080/"
        },
        "id": "nMBBIH6qHuN1",
        "outputId": "9b589ffb-2c28-4aa4-ed0b-da874c4a2ad7"
      },
      "execution_count": 14,
      "outputs": [
        {
          "output_type": "stream",
          "name": "stdout",
          "text": [
            "Enter The Number1:90\n",
            "Enter The Number2:68\n",
            "The sum of 90 and 68 is 158.0\n"
          ]
        }
      ]
    },
    {
      "cell_type": "code",
      "source": [
        "# using lambda\n",
        "#if __name__ == \"__main__\" :\n",
        "\n",
        "num1 = 15\n",
        "num2 = 12\n",
        "\n",
        "# Adding two numbers\n",
        "sum_twoNum = lambda num1, num2 : num1 + num2\n",
        "\n",
        "print(\"Sum of {0} and {1} is {2};\" .format(num1, num2, sum_twoNum(num1, num2)))"
      ],
      "metadata": {
        "colab": {
          "base_uri": "https://localhost:8080/"
        },
        "id": "YD6UICVoJbYY",
        "outputId": "9dafd7f2-161b-41ee-d8b7-35b16556b312"
      },
      "execution_count": 18,
      "outputs": [
        {
          "output_type": "stream",
          "name": "stdout",
          "text": [
            "Sum of 15 and 12 is 27;\n"
          ]
        }
      ]
    },
    {
      "cell_type": "markdown",
      "source": [
        "**2. Maximum of two numbers in Python**"
      ],
      "metadata": {
        "id": "xlot__buKGbW"
      }
    },
    {
      "cell_type": "code",
      "source": [
        "#Using max() function\n",
        "a=int(input(\"Enter The Number1:\"))\n",
        "b=int(input(\"Enter The Number2:\"))\n",
        "maximum = max(a,b) \n",
        "print(maximum)"
      ],
      "metadata": {
        "colab": {
          "base_uri": "https://localhost:8080/"
        },
        "id": "bJUwfxofOwf_",
        "outputId": "ff24941f-cd78-4dcb-c5f8-0da6d1f97986"
      },
      "execution_count": 20,
      "outputs": [
        {
          "output_type": "stream",
          "name": "stdout",
          "text": [
            "Enter The Number1:25\n",
            "Enter The Number2:48\n",
            "48\n"
          ]
        }
      ]
    }
  ]
}